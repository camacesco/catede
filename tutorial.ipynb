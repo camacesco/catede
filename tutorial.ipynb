{
 "cells": [
  {
   "attachments": {},
   "cell_type": "markdown",
   "metadata": {},
   "source": [
    "# Tutorial\n",
    "\n",
    "How to use the classes from the package `catede` in order to estimate quantities such the Shannon entropy and the Kullback-Leibler divergence from categorical data. \n",
    "\n",
    "## Histogram of counts\n",
    "Let's consider as categories $i$ all sequences of length $L=3$ generated from a Markov chain with $20$ states.\n",
    "The maximum number of possible categories is $K=20^3$.\n",
    "We extract a sample of $N$ sequences according to the corresponding probability $\\boldsymbol{q}=\\lbrace q_{i}\\rbrace_{i=1}^{K}$."
   ]
  },
  {
   "cell_type": "code",
   "execution_count": 2,
   "metadata": {},
   "outputs": [
    {
     "name": "stdout",
     "output_type": "stream",
     "text": [
      "Histogram of counts\n",
      "3       1\n",
      "7       1\n",
      "9       1\n",
      "12      1\n",
      "13      4\n",
      "       ..\n",
      "7994    1\n",
      "7997    1\n",
      "7998    1\n",
      "7999    1\n",
      "8000    3\n",
      "Length: 4486, dtype: int64\n",
      "<class 'pandas.core.series.Series'>\n"
     ]
    }
   ],
   "source": [
    "from catede.handle_ngrams import markov_class\n",
    "\n",
    "s1 = 12345                                                  # rng seed\n",
    "\n",
    "#  simulation  #\n",
    "n_states = 20                                               # n. of states\n",
    "lenght = 3                                                  # length of the L-grams\n",
    "K = n_states ** lenght                                      # n. categories a priori\n",
    "\n",
    "mobj_1 = markov_class(lenght, n_states=n_states, seed=s1)   # Markov matrix\n",
    "exact_shannon = mobj_1.exact_shannon()                      # exact Shannon entropy\n",
    "\n",
    "# extract a sample\n",
    "N = int(1e4)                                                # sample size\n",
    "seqs_1 = mobj_1.generate_counts(N, seed=s1)                 # generate histogram of counts\n",
    "print(\"Histogram of counts\")\n",
    "print(seqs_1)\n",
    "print(type(seqs_1))"
   ]
  },
  {
   "cell_type": "code",
   "execution_count": 3,
   "metadata": {},
   "outputs": [
    {
     "data": {
      "image/png": "[encoded data removed]",
      "text/plain": [
       "<Figure size 288x288 with 1 Axes>"
      ]
     },
     "metadata": {
      "needs_background": "light"
     },
     "output_type": "display_data"
    }
   ],
   "source": [
    "import matplotlib.pyplot as plt\n",
    "import numpy as np\n",
    "\n",
    "plt.figure(figsize=(4,4))\n",
    "plt.xlabel('rank')\n",
    "plt.xscale('log')\n",
    "plt.ylabel('probability')\n",
    "plt.yscale('log')\n",
    "rank_pmf = np.sort(mobj_1.pmf())[::-1]\n",
    "plt.xlim([1, len(rank_pmf)])\n",
    "plt.ylim([1e-7, np.max(rank_pmf)])\n",
    "plt.plot(1+np.arange(len(rank_pmf)), rank_pmf, lw=2, color='red')\n",
    "plt.show()"
   ]
  },
  {
   "cell_type": "markdown",
   "metadata": {},
   "source": [
    "## The `Experiment` class "
   ]
  },
  {
   "cell_type": "code",
   "execution_count": 4,
   "metadata": {},
   "outputs": [
    {
     "name": "stdout",
     "output_type": "stream",
     "text": [
      "Total n. of counts:\n",
      "10000\n",
      "N. of Categories:\n",
      "4486  (observed)\n",
      "8000  (a priori)\n",
      "Multiplicities:\n",
      "0     3514\n",
      "1     1976\n",
      "2     1080\n",
      "3      667\n",
      "4      355\n",
      "5      198\n",
      "6      106\n",
      "7       58\n",
      "8       26\n",
      "9       11\n",
      "10       5\n",
      "11       1\n",
      "13       1\n",
      "15       2\n",
      "Name: freq, dtype: int64\n"
     ]
    }
   ],
   "source": [
    "from catede.estimate import Experiment\n",
    "\n",
    "# define an Experiment object\n",
    "exp_1 = Experiment(seqs_1, categories=K)        # first experiment\n",
    "exp_1.show()                                    # print a short summary of the object"
   ]
  },
  {
   "attachments": {},
   "cell_type": "markdown",
   "metadata": {},
   "source": [
    "## Shannon entropy estimation\n",
    "\n",
    "$$\n",
    "S \\left(\\boldsymbol{q}\\right)\n",
    "= - \\sum_{i=1}^{K} q_{i} \\log q_{i}\n",
    "$$"
   ]
  },
  {
   "cell_type": "code",
   "execution_count": 5,
   "metadata": {},
   "outputs": [
    {
     "name": "stdout",
     "output_type": "stream",
     "text": [
      "Shannon entropy\n",
      "exact : 8.591\n",
      "naive : 8.201\n",
      "CAE : 8.539\n",
      "NSB : 8.593 +- 0.005\n"
     ]
    }
   ],
   "source": [
    "naive = exp_1.shannon(method='naive') \n",
    "cae = exp_1.shannon(method='Chao-Shen') \n",
    "nsb, nsb_std = exp_1.shannon(method='NSB', error=True) \n",
    "\n",
    "print(\"Shannon entropy\")\n",
    "print(f\"exact : {exact_shannon:.3f}\")\n",
    "print(f\"naive : {naive:.3f}\")\n",
    "print(f\"CAE : {cae:.3f}\")\n",
    "print(f\"NSB : {nsb:.3f} +- {nsb_std:.3f}\")"
   ]
  },
  {
   "attachments": {},
   "cell_type": "markdown",
   "metadata": {},
   "source": [
    "## Simpson index estimation\n",
    "\n",
    "$$\n",
    "\\lambda \\left(\\boldsymbol{q}\\right)\n",
    "=\n",
    "\\sum_{i=1}^{K} {q_{i}}^2\n",
    "$$"
   ]
  },
  {
   "cell_type": "code",
   "execution_count": null,
   "metadata": {},
   "outputs": [],
   "source": [
    "exact_simpson = mobj_1.exact_simpson()\n",
    "naive = exp_1.simpson(method='naive')\n",
    "cae = exp_1.simpson(method='Chao-Shen') \n",
    "nsb, nsb_std = exp_1.simpson(method='NSB', error=True)\n",
    "\n",
    "print(\"Simpson index\")\n",
    "print(f\"exact : {exact_simpson:.6f}\")\n",
    "print(f\"naive : {naive:.6f}\")\n",
    "print(f\"CAE : {cae:.6f}\")\n",
    "print(f\"NSB : {nsb:.6f} +- {nsb_std:.6f}\")"
   ]
  },
  {
   "attachments": {},
   "cell_type": "markdown",
   "metadata": {},
   "source": [
    "## The `Divergence` class"
   ]
  },
  {
   "cell_type": "code",
   "execution_count": null,
   "metadata": {},
   "outputs": [],
   "source": [
    "from catede.estimate import Divergence\n",
    "\n",
    "# simulation of an independent second system\n",
    "s2 = 54321                                                  # rng seed\n",
    "\n",
    "mobj_2 = markov_class(lenght, n_states=n_states, seed=s2)   # random Markov matrix generation\n",
    "seqs_2 = mobj_2.generate_counts(N, seed=s2)                 # generate histogram of counts\n",
    "exact_sh_entropy_2 = mobj_2.exact_shannon()                 # exact Shannon entropy  \n",
    "exp_2 = Experiment(seqs_2, categories=K)                    # second experiment\n",
    "div_to1from2 = Divergence(exp_1, exp_2)                     # divergence class"
   ]
  },
  {
   "attachments": {},
   "cell_type": "markdown",
   "metadata": {},
   "source": [
    "## Kullback-Leibler divergence estimation\n",
    "\n",
    "$$\n",
    "D_{\\rm KL} \\left( \\boldsymbol{q} \\Vert \\boldsymbol{t} \\right)\n",
    "=\n",
    "\\sum_{i=1}^{K} q_{i} \\log \\frac{q_{i}}{t_{i}}\n",
    "$$"
   ]
  },
  {
   "cell_type": "code",
   "execution_count": null,
   "metadata": {},
   "outputs": [],
   "source": [
    "# Kullback Leibler divergence estimation #\n",
    "exact_DKL_to1from2 = mobj_1.exact_kullbackleibler(mobj_2)\n",
    "naive = div_to1from2.kullback_leibler(method='naive')\n",
    "zhang = div_to1from2.kullback_leibler(method='Zhang-Grabchak') \n",
    "dpm, dpm_std = div_to1from2.kullback_leibler(method='DPM', error=True) \n",
    "\n",
    "print(\"Kullback Leibler divergence\")\n",
    "print(f\"exact : { exact_DKL_to1from2:.3f}\")\n",
    "print(f\"naive : {naive:.3f}\")\n",
    "print(f\"ZG : {zhang:.3f}\")\n",
    "print(f\"DPM : {dpm:.3f} +- {dpm_std:.3f}\")"
   ]
  },
  {
   "cell_type": "markdown",
   "metadata": {},
   "source": [
    "## symmetrized Kullback-Leibler divergence estimation\n",
    "\n",
    "$$\n",
    "sD_{\\rm KL} \\left( \\boldsymbol{q} \\Vert \\boldsymbol{t} \\right)\n",
    "=\n",
    "\\frac{1}{2} D_{\\rm KL} \\left( \\boldsymbol{q} \\Vert \\boldsymbol{t} \\right) +\n",
    "\\frac{1}{2} D_{\\rm KL} \\left( \\boldsymbol{t} \\Vert \\boldsymbol{q} \\right)\n",
    "$$"
   ]
  },
  {
   "cell_type": "code",
   "execution_count": null,
   "metadata": {},
   "outputs": [],
   "source": [
    "# Kullback Leibler divergence estimation #\n",
    "exact_sDKL = 0.5 * (exact_DKL_to1from2 + mobj_2.exact_kullbackleibler(mobj_1))\n",
    "naive = div_to1from2.symmetrized_KL(method='naive')\n",
    "zhang = div_to1from2.symmetrized_KL(method='Zhang-Grabchak') \n",
    "dpm = div_to1from2.symmetrized_KL(method='DPM') \n",
    "\n",
    "print(\"symm Kullback Leibler divergence\")\n",
    "print(f\"exact : { exact_sDKL:.3f}\")\n",
    "print(f\"naive : {naive:.3f}\")\n",
    "print(f\"ZG : {zhang:.3f}\")\n",
    "print(f\"DPM : {dpm:.3f}\")"
   ]
  },
  {
   "attachments": {},
   "cell_type": "markdown",
   "metadata": {},
   "source": [
    "## Squared Hellinger divergence estimation\n",
    "\n",
    "$$\n",
    "D_{\\rm H}^2 \\left( \\boldsymbol{q} \\Vert \\boldsymbol{t} \\right)\n",
    "=\n",
    "1 - \\sum_{i=1}^{K} \\sqrt{q_{i}} \\sqrt{t_{i}}\n",
    "$$"
   ]
  },
  {
   "cell_type": "code",
   "execution_count": null,
   "metadata": {},
   "outputs": [],
   "source": [
    "# Squared Hellinger divergence estimation #\n",
    "exact_DH_to1from2 = mobj_1.exact_squared_hellinger(mobj_2)\n",
    "naive = div_to1from2.squared_hellinger(method='naive')\n",
    "dpm, dpm_std = div_to1from2.squared_hellinger(method='DPM', error=True) \n",
    "\n",
    "print(\"Squared Hellinger divergence\")\n",
    "print(f\"exact : { exact_DH_to1from2:.3f}\")\n",
    "print(f\"naive : {naive:.3f}\")\n",
    "print(f\"DPM : {dpm:.3f} +- {dpm_std:.3f}\")"
   ]
  }
 ],
 "metadata": {
  "kernelspec": {
   "display_name": "Python 3.7.8 ('base': conda)",
   "language": "python",
   "name": "python3"
  },
  "language_info": {
   "codemirror_mode": {
    "name": "ipython",
    "version": 3
   },
   "file_extension": ".py",
   "mimetype": "text/x-python",
   "name": "python",
   "nbconvert_exporter": "python",
   "pygments_lexer": "ipython3",
   "version": "3.7.8"
  },
  "orig_nbformat": 4,
  "vscode": {
   "interpreter": {
    "hash": "1ca6294cbb32705ba8e9d5f1c61ac24f2b2b51f4ed14a5137959c5b73ca963d8"
   }
  }
 },
 "nbformat": 4,
 "nbformat_minor": 2
}
