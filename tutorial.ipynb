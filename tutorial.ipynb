{
 "cells": [
  {
   "attachments": {},
   "cell_type": "markdown",
   "metadata": {},
   "source": [
    "# Tutorial\n",
    "\n",
    "A few examples to show how to use the classes from the package `catede` in order to estimate quantities such the Shannon entropy and the Kullback-Leibler divergence from data. \n",
    "\n",
    "## The `Experiment` class \n",
    "In these examples we generate $K=20^3$ categories distributed as sequeunces of length $L=3$ generated as a $20$ states Markov chain."
   ]
  },
  {
   "cell_type": "code",
   "execution_count": 1,
   "metadata": {},
   "outputs": [
    {
     "name": "stdout",
     "output_type": "stream",
     "text": [
      "Histogram of counts\n",
      "3       1\n",
      "7       1\n",
      "9       1\n",
      "12      1\n",
      "13      4\n",
      "       ..\n",
      "7994    1\n",
      "7997    1\n",
      "7998    1\n",
      "7999    1\n",
      "8000    3\n",
      "Length: 4486, dtype: int64\n",
      "<class 'pandas.core.series.Series'>\n"
     ]
    }
   ],
   "source": [
    "from catede.handle_ngrams import markov_class\n",
    "from catede.estimate import Experiment\n",
    "\n",
    "s1 = 12345                                              # rng seed\n",
    "\n",
    "#  simulation  #\n",
    "A = 20                                                  # n. of states\n",
    "L = 3                                                   # length of the L-grams\n",
    "K = A ** L                                              # n. categories a priori\n",
    "\n",
    "mobj_1 = markov_class(L, n_states=A, seed=s1)           # random Markov matrix\n",
    "exact_shannon = mobj_1.exact_shannon()                  # exact Shannon entropy\n",
    "\n",
    "# extract a sample\n",
    "sample_size = int(1e4)                                  # sample size\n",
    "seqs_1 = mobj_1.generate_counts(sample_size, seed=s1)   # generate histogram of counts\n",
    "print(\"Histogram of counts\")\n",
    "print(seqs_1)\n",
    "print(type(seqs_1))"
   ]
  },
  {
   "cell_type": "code",
   "execution_count": 2,
   "metadata": {},
   "outputs": [
    {
     "name": "stdout",
     "output_type": "stream",
     "text": [
      "Total n. of counts:\n",
      "10000\n",
      "N. of Categories:\n",
      "4486  (observed)\n",
      "8000  (a priori)\n",
      "Multiplicities:\n",
      "0     3514\n",
      "1     1976\n",
      "2     1080\n",
      "3      667\n",
      "4      355\n",
      "5      198\n",
      "6      106\n",
      "7       58\n",
      "8       26\n",
      "9       11\n",
      "10       5\n",
      "11       1\n",
      "13       1\n",
      "15       2\n",
      "Name: freq, dtype: int64\n"
     ]
    }
   ],
   "source": [
    "# define experiment\n",
    "exp_1 = Experiment(seqs_1, categories=K)                # first experiment\n",
    "exp_1.show()"
   ]
  },
  {
   "cell_type": "markdown",
   "metadata": {},
   "source": [
    "### Rank plot"
   ]
  },
  {
   "cell_type": "code",
   "execution_count": 3,
   "metadata": {},
   "outputs": [
    {
     "data": {
      "image/png": "[encoded data removed]",
      "text/plain": [
       "<Figure size 400x400 with 1 Axes>"
      ]
     },
     "metadata": {},
     "output_type": "display_data"
    }
   ],
   "source": [
    "from pylab import *\n",
    "import numpy as np\n",
    "\n",
    "figure(figsize=(4,4))\n",
    "xlabel('rank')\n",
    "xscale('log')\n",
    "ylabel('probability')\n",
    "yscale('log')\n",
    "rank_pmf = np.sort(mobj_1.pmf())[::-1]\n",
    "xlim([1, len(rank_pmf)])\n",
    "ylim([1e-7, np.max(rank_pmf)])\n",
    "plot(1+np.arange(len(rank_pmf)), rank_pmf, lw=2, color='red')\n",
    "show()"
   ]
  },
  {
   "attachments": {},
   "cell_type": "markdown",
   "metadata": {},
   "source": [
    "## Shannon entropy estimation\n",
    "\n",
    "$$\n",
    "S \\left(\\bm{q}\\right)\n",
    "= - \\sum_{i=1}^{K} q_{i} \\log q_{i}\n",
    "$$"
   ]
  },
  {
   "cell_type": "code",
   "execution_count": 4,
   "metadata": {},
   "outputs": [
    {
     "name": "stdout",
     "output_type": "stream",
     "text": [
      "Shannon entropy\n",
      "exact : 8.591\n",
      "naive : 8.201\n",
      "CAE : 8.539\n",
      "NSB : 8.593 +- 0.005\n"
     ]
    }
   ],
   "source": [
    "naive = exp_1.shannon(method='naive') \n",
    "cae = exp_1.shannon(method='Chao-Shen') \n",
    "nsb, nsb_std = exp_1.shannon(method='NSB', error=True) \n",
    "\n",
    "print(\"Shannon entropy\")\n",
    "print(f\"exact : {exact_shannon:.3f}\")\n",
    "print(f\"naive : {naive:.3f}\")\n",
    "print(f\"CAE : {cae:.3f}\")\n",
    "print(f\"NSB : {nsb:.3f} +- {nsb_std:.3f}\")"
   ]
  },
  {
   "attachments": {},
   "cell_type": "markdown",
   "metadata": {},
   "source": [
    "## Simpson index estimation\n",
    "\n",
    "$$\n",
    "\\lambda \\left(\\bm{q}\\right)\n",
    "=\n",
    "\\sum_{i=1}^{K} {q_{i}}^2\n",
    "$$"
   ]
  },
  {
   "cell_type": "code",
   "execution_count": 5,
   "metadata": {},
   "outputs": [
    {
     "name": "stdout",
     "output_type": "stream",
     "text": [
      "Simpson index\n",
      "exact : 0.000232\n",
      "naive : 0.000334\n",
      "CAE : 0.000239\n",
      "NSB : 0.000239 +- 0.000002\n"
     ]
    }
   ],
   "source": [
    "exact_simpson = mobj_1.exact_simpson()\n",
    "naive = exp_1.simpson(method='naive')\n",
    "cae = exp_1.simpson(method='Chao-Shen') \n",
    "nsb, nsb_std = exp_1.simpson(method='NSB', error=True)\n",
    "\n",
    "print(\"Simpson index\")\n",
    "print(f\"exact : {exact_simpson:.6f}\")\n",
    "print(f\"naive : {naive:.6f}\")\n",
    "print(f\"CAE : {cae:.6f}\")\n",
    "print(f\"NSB : {nsb:.6f} +- {nsb_std:.6f}\")"
   ]
  },
  {
   "attachments": {},
   "cell_type": "markdown",
   "metadata": {},
   "source": [
    "## The `Divergence` class"
   ]
  },
  {
   "cell_type": "code",
   "execution_count": 6,
   "metadata": {},
   "outputs": [],
   "source": [
    "from catede.estimate import Divergence\n",
    "\n",
    "# simulation of an independent second system\n",
    "s2 = 54321                                              # rng seed\n",
    "\n",
    "mobj_2 = markov_class(L, n_states=A, seed=s2)           # random Markov matrix generation\n",
    "seqs_2 = mobj_2.generate_counts(sample_size, seed=s2)   # generate histogram of counts\n",
    "exact_sh_entropy_2 = mobj_2.exact_shannon()             # exact Shannon entropy  \n",
    "exp_2 = Experiment(seqs_2, categories=K)                # second experiment\n",
    "div_to1from2 = Divergence(exp_1, exp_2)                 # divergence class"
   ]
  },
  {
   "attachments": {},
   "cell_type": "markdown",
   "metadata": {},
   "source": [
    "## Kullback-Leibler divergence estimation\n",
    "\n",
    "$$\n",
    "D_{\\rm KL} \\left( \\bm{q} \\Vert \\bm{t} \\right)\n",
    "=\n",
    "\\sum_{i=1}^{K} q_{i} \\log \\frac{q_{i}}{t_{i}}\n",
    "$$"
   ]
  },
  {
   "cell_type": "code",
   "execution_count": 7,
   "metadata": {},
   "outputs": [
    {
     "name": "stdout",
     "output_type": "stream",
     "text": [
      "Kullback Leibler divergence\n",
      "exact : 1.051\n",
      "naive : 0.223\n",
      "Z : 0.520\n",
      "DPM : 0.977 +- 0.026\n"
     ]
    }
   ],
   "source": [
    "# Kullback Leibler divergence estimation #\n",
    "exact_DKL_to1from2 = mobj_1.exact_kullbackleibler(mobj_2)\n",
    "naive = div_to1from2.kullback_leibler(method='naive')\n",
    "zhang = div_to1from2.kullback_leibler(method='Zhang-Grabchak') \n",
    "dpm, dpm_std = div_to1from2.kullback_leibler(method='DPM', error=True) \n",
    "\n",
    "print(\"Kullback Leibler divergence\")\n",
    "print(f\"exact : { exact_DKL_to1from2:.3f}\")\n",
    "print(f\"naive : {naive:.3f}\")\n",
    "print(f\"Z : {zhang:.3f}\")\n",
    "print(f\"DPM : {dpm:.3f} +- {dpm_std:.3f}\")"
   ]
  },
  {
   "cell_type": "markdown",
   "metadata": {},
   "source": [
    "## symmetrized Kullback-Leibler divergence estimation\n",
    "\n",
    "$$\n",
    "sD_{\\rm KL} \\left( \\bm{q} \\Vert \\bm{t} \\right)\n",
    "=\n",
    "\\frac{1}{2} D_{\\rm KL} \\left( \\bm{q} \\Vert \\bm{t} \\right) +\n",
    "\\frac{1}{2} D_{\\rm KL} \\left( \\bm{t} \\Vert \\bm{q} \\right)\n",
    "$$"
   ]
  },
  {
   "cell_type": "code",
   "execution_count": 8,
   "metadata": {},
   "outputs": [
    {
     "name": "stdout",
     "output_type": "stream",
     "text": [
      "symm Kullback Leibler divergence\n",
      "exact : 1.036\n",
      "naive : 0.230\n",
      "Z : 0.534\n",
      "DPM : 0.965\n"
     ]
    }
   ],
   "source": [
    "# Kullback Leibler divergence estimation #\n",
    "exact_sDKL = 0.5 * (exact_DKL_to1from2 + mobj_2.exact_kullbackleibler(mobj_1))\n",
    "naive = div_to1from2.symmetrized_KL(method='naive')\n",
    "zhang = div_to1from2.symmetrized_KL(method='Zhang-Grabchak') \n",
    "dpm = div_to1from2.symmetrized_KL(method='DPM') \n",
    "\n",
    "print(\"symm Kullback Leibler divergence\")\n",
    "print(f\"exact : { exact_sDKL:.3f}\")\n",
    "print(f\"naive : {naive:.3f}\")\n",
    "print(f\"Z : {zhang:.3f}\")\n",
    "print(f\"DPM : {dpm:.3f}\")"
   ]
  },
  {
   "attachments": {},
   "cell_type": "markdown",
   "metadata": {},
   "source": [
    "## Squared Hellinger divergence estimation\n",
    "\n",
    "$$\n",
    "D_{\\rm H}^2 \\left( \\bm{q} \\Vert \\bm{t} \\right)\n",
    "=\n",
    "1 - \\sum_{i=1}^{K} \\sqrt{q_{i}} \\sqrt{t_{i}}\n",
    "$$"
   ]
  },
  {
   "cell_type": "code",
   "execution_count": 9,
   "metadata": {},
   "outputs": [
    {
     "name": "stdout",
     "output_type": "stream",
     "text": [
      "Squared Hellinger divergence\n",
      "exact : 0.217\n",
      "naive : 0.497\n",
      "DPM : 0.208 +- 0.004\n"
     ]
    }
   ],
   "source": [
    "# Squared Hellinger divergence estimation #\n",
    "exact_DH_to1from2 = mobj_1.exact_squared_hellinger(mobj_2)\n",
    "naive = div_to1from2.squared_hellinger(method='naive')\n",
    "dpm, dpm_std = div_to1from2.squared_hellinger(method='DPM', error=True) \n",
    "\n",
    "print(\"Squared Hellinger divergence\")\n",
    "print(f\"exact : { exact_DH_to1from2:.3f}\")\n",
    "print(f\"naive : {naive:.3f}\")\n",
    "print(f\"DPM : {dpm:.3f} +- {dpm_std:.3f}\")"
   ]
  },
  {
   "cell_type": "code",
   "execution_count": null,
   "metadata": {},
   "outputs": [],
   "source": []
  }
 ],
 "metadata": {
  "kernelspec": {
   "display_name": "Python 3.7.8 ('base': conda)",
   "language": "python",
   "name": "python3"
  },
  "language_info": {
   "codemirror_mode": {
    "name": "ipython",
    "version": 3
   },
   "file_extension": ".py",
   "mimetype": "text/x-python",
   "name": "python",
   "nbconvert_exporter": "python",
   "pygments_lexer": "ipython3",
   "version": "3.10.9"
  },
  "orig_nbformat": 4,
  "vscode": {
   "interpreter": {
    "hash": "1ca6294cbb32705ba8e9d5f1c61ac24f2b2b51f4ed14a5137959c5b73ca963d8"
   }
  }
 },
 "nbformat": 4,
 "nbformat_minor": 2
}
